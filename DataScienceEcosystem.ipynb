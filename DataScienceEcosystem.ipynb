{
 "cells": [
  {
   "cell_type": "markdown",
   "id": "9f6611c6-7e11-40ee-b656-260fcd4b9087",
   "metadata": {
    "tags": []
   },
   "source": [
    "# Data Science Tools and Ecosystem\n"
   ]
  },
  {
   "cell_type": "markdown",
   "id": "b766af3b-b692-4773-8c06-66c7380805fc",
   "metadata": {},
   "source": [
    "## Author: \n",
    "Sevilay Ozturk"
   ]
  },
  {
   "cell_type": "markdown",
   "id": "59106463-fa8a-452e-90b4-2ffa3b702f33",
   "metadata": {},
   "source": [
    "In this notebook, Data Science Tools and Ecosystem are summarized."
   ]
  },
  {
   "cell_type": "markdown",
   "id": "1e1834d2-50ac-460a-b228-47dd6ef64121",
   "metadata": {},
   "source": [
    "__Objectives:__\n",
    "\n",
    "* Popular languages in Data Science\n",
    "* Commonly used libraries in Data Science\n",
    "* Data Science tools\n",
    "* Mathematical expressions in Python"
   ]
  },
  {
   "cell_type": "markdown",
   "id": "0c30888b-570d-4bae-98b7-588032850ac7",
   "metadata": {},
   "source": [
    "Some of the popular languages that Data Scientists use are:\n",
    "\n",
    "1. R\n",
    "1. Python\n",
    "1. Scala"
   ]
  },
  {
   "cell_type": "markdown",
   "id": "3360d974-ab9a-48a2-be0a-836843347ff6",
   "metadata": {},
   "source": [
    "Some of the commonly used libraries used by Data Scientists include:\n",
    "1. pandas\n",
    "1. ggplot\n",
    "1. Numpy\n",
    "1. keras"
   ]
  },
  {
   "cell_type": "markdown",
   "id": "33c00d71-31fa-4a5f-932c-8f64270a30b4",
   "metadata": {},
   "source": [
    "| Data Science Tools | \n",
    "| --- |\n",
    "| RStudio |\n",
    "| JupyterNotebook |\n",
    "| GIT |\n"
   ]
  },
  {
   "cell_type": "markdown",
   "id": "04b9bf04-6c1a-48db-9116-1d51e888a0ee",
   "metadata": {},
   "source": [
    "### Below are a few examples of evaluating arithmetic expressions in Python"
   ]
  },
  {
   "cell_type": "code",
   "execution_count": 19,
   "id": "0a3b529e-b612-45be-af51-5161a346dc42",
   "metadata": {},
   "outputs": [
    {
     "data": {
      "text/plain": [
       "17"
      ]
     },
     "execution_count": 19,
     "metadata": {},
     "output_type": "execute_result"
    }
   ],
   "source": [
    "#This a simple arithmetic expression to mutiply then add integers\n",
    "(3*4)+5"
   ]
  },
  {
   "cell_type": "code",
   "execution_count": 21,
   "id": "7a0ab126-678e-4f12-b6ec-ece8897f3390",
   "metadata": {},
   "outputs": [
    {
     "data": {
      "text/plain": [
       "3.3333333333333335"
      ]
     },
     "execution_count": 21,
     "metadata": {},
     "output_type": "execute_result"
    }
   ],
   "source": [
    "#This will convert 200 minutes to hours by diving by 60\n",
    "\n",
    "def convertMinutes(minutes):\n",
    "    hours = minutes / 60\n",
    "    return hours\n",
    "\n",
    "convertMinutes(200)"
   ]
  },
  {
   "cell_type": "code",
   "execution_count": null,
   "id": "7c9aad55-28b4-4df0-8ee4-c01626a579c6",
   "metadata": {},
   "outputs": [],
   "source": []
  }
 ],
 "metadata": {
  "kernelspec": {
   "display_name": "anaconda-panel-2023.05-py310",
   "language": "python",
   "name": "conda-env-anaconda-panel-2023.05-py310-py"
  },
  "language_info": {
   "codemirror_mode": {
    "name": "ipython",
    "version": 3
   },
   "file_extension": ".py",
   "mimetype": "text/x-python",
   "name": "python",
   "nbconvert_exporter": "python",
   "pygments_lexer": "ipython3",
   "version": "3.11.5"
  }
 },
 "nbformat": 4,
 "nbformat_minor": 5
}
